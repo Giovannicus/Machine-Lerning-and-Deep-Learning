{
 "cells": [
  {
   "cell_type": "code",
   "execution_count": 210,
   "id": "8482a5d2-b9eb-402e-b20d-e97cf3ccf6e6",
   "metadata": {},
   "outputs": [
    {
     "name": "stdout",
     "output_type": "stream",
     "text": [
      "Abbiamo 10 dati e 1 features\n"
     ]
    },
    {
     "data": {
      "image/png": "[encoded data removed]",
      "text/plain": [
       "<Figure size 432x288 with 1 Axes>"
      ]
     },
     "metadata": {
      "needs_background": "light"
     },
     "output_type": "display_data"
    },
    {
     "name": "stdout",
     "output_type": "stream",
     "text": [
      "Iterazione    0: Costo    2.481\n",
      "Iterazione 10000: Costo    1.904\n",
      "Iterazione 20000: Costo    1.904\n",
      "Iterazione 30000: Costo    1.904\n",
      "Iterazione 40000: Costo    1.904\n",
      "Iterazione 50000: Costo    1.904\n",
      "Iterazione 60000: Costo    1.904\n",
      "Iterazione 70000: Costo    1.904\n",
      "Iterazione 80000: Costo    1.904\n",
      "Iterazione 90000: Costo    1.904\n",
      "La legge è Y = 2.494 X + 0.103 con costo    1.904\n"
     ]
    },
    {
     "data": {
      "image/png": "[encoded data removed]",
      "text/plain": [
       "<Figure size 432x288 with 1 Axes>"
      ]
     },
     "metadata": {
      "needs_background": "light"
     },
     "output_type": "display_data"
    }
   ],
   "source": [
    "#librerie\n",
    "import numpy as np\n",
    "import matplotlib.pyplot as plt\n",
    "#from utils import *\n",
    "import copy\n",
    "import math\n",
    "%matplotlib inline\n",
    "\n",
    "#prendo i dati\n",
    "nd = 10\n",
    "x_tr = np.zeros(nd)\n",
    "y_tr = np.zeros(nd)\n",
    "for ct in range (nd):\n",
    "    x_tr[ct] = 100 + np.random.standard_normal(size=(1,))\n",
    "    y_tr[ct] = 2.5*100 + np.random.standard_normal(size=(1,))\n",
    "\n",
    "#prendi dimensioni dati\n",
    "print(\"Abbiamo\",nd,\"dati e\",nf,\"features\")\n",
    "\n",
    "#preprocessing\n",
    "\n",
    "\n",
    "#plot dati ingresso\n",
    "plt.scatter(x_tr,y_tr,marker='x',c='r')\n",
    "plt.title(\"Y vs X\")\n",
    "plt.xlabel(\"X in u.a.\")\n",
    "plt.ylabel(\"Y in u.a.\")\n",
    "plt.show()\n",
    "\n",
    "#calcolo costo\n",
    "def comp_cost(x,y,w,b):\n",
    "    nd = x.shape[0]\n",
    "    cost = 0\n",
    "    cd = 0\n",
    "    for cd in range(nd):\n",
    "        cost = cost + (w*x[cd] + b - y[cd])**2\n",
    "        \n",
    "    cost = cost/(2*nd)\n",
    "    return cost\n",
    "\n",
    "#calcolo gradiente\n",
    "def comp_gradient(x,y,w,b):\n",
    "    nd = x.shape[0]\n",
    "    djdw = 0\n",
    "    djdb = 0\n",
    "    ct = 0\n",
    "    for cd in range(nd):\n",
    "        djdw = djdw + (w*x[cd] + b - y[cd])*x[cd]\n",
    "        djdb = djdb + (w*x[cd] + b - y[cd])\n",
    "    djdw = djdw/nd\n",
    "    djdb = djdb/nd\n",
    "    return djdw,djdb\n",
    "\n",
    "#descent gradient\n",
    "def grad_des(x,y,w_in,b_in,alpha,epoch):\n",
    "    nd = x.shape[0]\n",
    "    J_hist = []\n",
    "    w_hist = []\n",
    "    w = copy.deepcopy(w_in)\n",
    "    b = b_in\n",
    "    for i in range(epoch):\n",
    "        djdw,djdb = comp_gradient(x,y,w,b)\n",
    "        w = w - alpha*djdw\n",
    "        b = b - alpha*djdb\n",
    "        if i < 10**5:\n",
    "            costo = comp_cost(x,y,w,b)\n",
    "            J_hist.append(costo)\n",
    "            if i%math.ceil(epoch/10) == 0:\n",
    "                w_hist.append(w)\n",
    "                print(f\"Iterazione {i:4}: Costo {float(J_hist[-1]):8.4g}\")\n",
    "    return w,b\n",
    "\n",
    "#applico ML\n",
    "pred = np.zeros(nd)\n",
    "w,b = grad_des(x_tr,y_tr,0,0,1*10**-4,100000)\n",
    "print(f\"La legge è Y = {float(w):.4} X + {float(b):.4} con costo {float(comp_cost(x_tr,y_tr,w,b)):8.4g}\")\n",
    "\n",
    "#vedo predizioni\n",
    "for i in range (nd):\n",
    "    pred[i] = w*x_tr[i]+b\n",
    "plt.plot(x_tr,pred,c='b')\n",
    "plt.scatter(x_tr,y_tr,c='r')\n",
    "plt.title(\"Data vs fit\")\n",
    "plt.xlabel(\"X in a.u.\")\n",
    "plt.ylabel(\"Y in a.u.\")\n",
    "plt.show()\n",
    "    \n",
    "    "
   ]
  },
  {
   "cell_type": "code",
   "execution_count": 209,
   "id": "bedd72bf-f09f-4efe-b148-37ae40dc2849",
   "metadata": {},
   "outputs": [
    {
     "data": {
      "text/plain": [
       "0.24993386451076166"
      ]
     },
     "execution_count": 209,
     "metadata": {},
     "output_type": "execute_result"
    }
   ],
   "source": [
    "comp_cost(x_tr,y_tr,0,np.mean(y_tr))\n"
   ]
  },
  {
   "cell_type": "code",
   "execution_count": null,
   "id": "c52d1249-bec1-4012-8956-d228c1c96cd7",
   "metadata": {},
   "outputs": [],
   "source": []
  },
  {
   "cell_type": "code",
   "execution_count": null,
   "id": "248f31e0-1664-4f57-ae42-b0d0c49702ba",
   "metadata": {},
   "outputs": [],
   "source": []
  }
 ],
 "metadata": {
  "kernelspec": {
   "display_name": "Python 3 (ipykernel)",
   "language": "python",
   "name": "python3"
  },
  "language_info": {
   "codemirror_mode": {
    "name": "ipython",
    "version": 3
   },
   "file_extension": ".py",
   "mimetype": "text/x-python",
   "name": "python",
   "nbconvert_exporter": "python",
   "pygments_lexer": "ipython3",
   "version": "3.9.13"
  }
 },
 "nbformat": 4,
 "nbformat_minor": 5
}
