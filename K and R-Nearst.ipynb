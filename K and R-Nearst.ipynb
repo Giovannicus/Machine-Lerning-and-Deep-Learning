{
 "cells": [
  {
   "cell_type": "markdown",
   "metadata": {
    "toc": true
   },
   "source": [
    "<h1>Table of Contents<span class=\"tocSkip\"></span></h1>\n",
    "<div class=\"toc\"><ul class=\"toc-item\"></ul></div>"
   ]
  },
  {
   "cell_type": "markdown",
   "metadata": {},
   "source": [
    "**Obiettivo:** creare un modello predittivo per risolvere un problema di classificazione attraverso l'utilizzo di KNN, seguendo la pipeline vista a lezione.\n",
    " "
   ]
  },
  {
   "cell_type": "markdown",
   "metadata": {},
   "source": [
    "**Dataset:**\n",
    "Il dataset da utilizzare contiene i risultati dell’analisi chimica di vini prodotti da tre diversi coltivatori Italiani: dovrai capire il tipo di vino a partire dai suoi valori chimici.\n",
    "\n",
    "Puoi caricare il dataset direttamente dalla libreria di Scikit-learn: https://scikit-learn.org/stable/datasets/toy_dataset.html#wine-recognition-dataset."
   ]
  },
  {
   "cell_type": "code",
   "execution_count": 1,
   "metadata": {},
   "outputs": [],
   "source": [
    "import pandas as pd\n",
    "import numpy as np\n",
    "from sklearn import datasets"
   ]
  },
  {
   "cell_type": "code",
   "execution_count": 27,
   "metadata": {},
   "outputs": [],
   "source": [
    "data = datasets.load_wine();\n",
    "\n",
    "X = data['data']\n",
    "y = data['target']\n",
    "\n",
    "from numpy.random import default_rng\n",
    "index = np.arange(len(X))\n",
    "rnd = default_rng(seed=11)\n",
    "rnd.shuffle(index)\n",
    "X = X[index]\n",
    "y = y[index]\n",
    "\n",
    "n = int(0.8*X.shape[0])\n",
    "X_train, y_train = X[0:n], y[0:n]\n",
    "X_test, y_test = X[n:], y[n:]"
   ]
  },
  {
   "cell_type": "code",
   "execution_count": 39,
   "metadata": {},
   "outputs": [],
   "source": [
    "def predict_single(x_new, k, X_train, y_train):\n",
    "    distanza = [np.linalg.norm(x_new - X_train[ct]) for ct in range(len(X_train))]\n",
    "    k_neigh = list(np.argsort(distanza)[:k])\n",
    "    y_train[k_neigh]\n",
    "    occorrenze = np.bincount(y_train[k_neigh], minlength = 3)\n",
    "    y_new_pred = np.argmax(occorrenze)\n",
    "    return y_new_pred\n",
    "\n",
    "def knn_predict(X_test, y_test, k, X_train, y_train):\n",
    "    y_pred_test = []\n",
    "    for x in X_test:\n",
    "        y_pred_test.append(predict_single(x, k, X_train, y_train))\n",
    "    return np.array(y_pred_test), mae(y_test,y_pred_test)\n",
    "\n",
    "def mae(y_test,y_pred):\n",
    "    summ = 0\n",
    "    for ct in range(len(y_test)):\n",
    "        summ += int(y_test[ct]!=y_pred[ct])  \n",
    "    return summ/len(y_test)\n",
    "\n",
    "def k_range_pred(X_test, y_test, k_range, X_train, y_train):\n",
    "    for k in k_range:\n",
    "        calc = knn_predict(X_test, y_test, k, X_train, y_train)\n",
    "        print(\"k = \", k,\"gave \", calc[0],\"with mae = \", calc[1])"
   ]
  },
  {
   "cell_type": "code",
   "execution_count": 54,
   "metadata": {},
   "outputs": [],
   "source": [
    "def rn_single_pred(x_new, r, X_train, y_train, weighted):\n",
    "    distanza = [np.linalg.norm(x_new - X_train[ct]) for ct in range(len(X_train))]\n",
    "    r_nei_num = len(np.array(distanza)[np.array(distanza).astype(float) < r])\n",
    "    r_neigh = list(np.argsort(distanza)[:r_nei_num])\n",
    "    if weighted:\n",
    "        weights = 1/np.array(distanza)[r_neigh]\n",
    "        occorrenze = np.bincount(y_train[r_neigh], minlength = 3, weights = weights)\n",
    "    else:\n",
    "        occorrenze = np.bincount(y_train[r_neigh], minlength = 3)\n",
    "        \n",
    "    return np.argmax(occorrenze)\n",
    "\n",
    "def rn_predict(X_new,y_test, r, X_train, y_train, weighted):\n",
    "    y_pred = []\n",
    "    for x_new in X_new:\n",
    "        y_pred.append(rn_single_pred(x_new, r, X_train, y_train, weighted))\n",
    "    return y_pred, mae(y_test,y_pred)\n",
    "\n",
    "def r_range_pred(X_test, y_test, r_range, X_train, y_train):\n",
    "    for r in r_range:\n",
    "        calc = rn_predict(X_test, y_test, r, X_train, y_train,True)\n",
    "        print(\"r = \", r,\"gave \", calc[0],\"with mae = \", calc[1])"
   ]
  },
  {
   "cell_type": "code",
   "execution_count": 40,
   "metadata": {
    "scrolled": true
   },
   "outputs": [
    {
     "name": "stdout",
     "output_type": "stream",
     "text": [
      "k =  3 gave  [0 0 1 2 2 0 0 1 0 2 2 0 2 1 1 0 1 2 1 2 1 0 1 1 2 2 1 0 0 2 2 1 1 1 0 0] with mae =  0.2777777777777778\n",
      "k =  4 gave  [0 0 1 2 2 0 0 1 0 1 2 0 2 1 1 0 1 0 1 1 1 2 1 1 2 2 1 0 0 2 2 1 1 1 0 0] with mae =  0.2222222222222222\n",
      "k =  5 gave  [0 0 1 2 2 0 0 1 0 1 2 0 2 1 1 0 2 2 1 2 1 0 1 1 2 2 1 0 0 2 0 1 1 1 0 0] with mae =  0.3611111111111111\n",
      "k =  6 gave  [0 0 1 2 2 0 0 1 0 1 2 0 2 1 1 0 1 2 1 2 1 2 1 1 1 2 1 0 0 2 2 1 1 1 0 0] with mae =  0.25\n",
      "k =  7 gave  [0 0 1 2 2 0 0 1 0 1 2 0 2 1 1 0 1 0 1 2 1 0 1 1 2 2 1 0 0 2 0 1 2 1 0 0] with mae =  0.2777777777777778\n"
     ]
    }
   ],
   "source": [
    "k_range = np.arange(3,8)\n",
    "k_range_pred(X_test, y_test, k_range, X_train, y_train)"
   ]
  },
  {
   "cell_type": "code",
   "execution_count": 57,
   "metadata": {},
   "outputs": [
    {
     "name": "stdout",
     "output_type": "stream",
     "text": [
      "r =  100000 gave  [0, 0, 1, 2, 1, 0, 0, 2, 0, 2, 2, 0, 2, 1, 1, 0, 1, 2, 1, 1, 1, 0, 1, 1, 2, 2, 1, 0, 0, 2, 2, 1, 1, 1, 0, 2] with mae =  0.3055555555555556\n",
      "r =  1000000 gave  [0, 0, 1, 2, 1, 0, 0, 2, 0, 2, 2, 0, 2, 1, 1, 0, 1, 2, 1, 1, 1, 0, 1, 1, 2, 2, 1, 0, 0, 2, 2, 1, 1, 1, 0, 2] with mae =  0.3055555555555556\n",
      "r =  10000000 gave  [0, 0, 1, 2, 1, 0, 0, 2, 0, 2, 2, 0, 2, 1, 1, 0, 1, 2, 1, 1, 1, 0, 1, 1, 2, 2, 1, 0, 0, 2, 2, 1, 1, 1, 0, 2] with mae =  0.3055555555555556\n"
     ]
    }
   ],
   "source": [
    "r_range = 10**np.arange(0,6)\n",
    "r_range_pred(X_test, y_test, r_range, X_train, y_train)"
   ]
  }
 ],
 "metadata": {
  "kernelspec": {
   "display_name": "Python 3 (ipykernel)",
   "language": "python",
   "name": "python3"
  },
  "language_info": {
   "codemirror_mode": {
    "name": "ipython",
    "version": 3
   },
   "file_extension": ".py",
   "mimetype": "text/x-python",
   "name": "python",
   "nbconvert_exporter": "python",
   "pygments_lexer": "ipython3",
   "version": "3.9.13"
  },
  "toc": {
   "base_numbering": 1,
   "nav_menu": {},
   "number_sections": true,
   "sideBar": true,
   "skip_h1_title": false,
   "title_cell": "Table of Contents",
   "title_sidebar": "Contents",
   "toc_cell": true,
   "toc_position": {},
   "toc_section_display": true,
   "toc_window_display": true
  }
 },
 "nbformat": 4,
 "nbformat_minor": 4
}
